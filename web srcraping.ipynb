{
 "cells": [
  {
   "cell_type": "code",
   "execution_count": null,
   "id": "34fbe7d3",
   "metadata": {},
   "outputs": [],
   "source": [
    "from bs4 import BeautifulSoup\n",
    "import requests\n",
    "import lxml\n",
    "import pandas as pd\n",
    "amazon_phon={}\n",
    "jobname_list=[]\n",
    "sellery_list=[]\n",
    "location_list=[]\n",
    "experience_list=[]\n",
    "\n",
    "\n",
    "url=\"https://www.timesjobs.com/candidate/job-search.html?from=submit&actualTxtKeywords=Data%20Science&searchBy=0&rdoOperator=OR&searchType=personalizedSearch&txtLocation=Delhi&luceneResultSize=25&postWeek=60&txtKeywords=data%20science&cboWorkExp1=0&pDate=I&sequence=1&startPage=1\"\n",
    "html=requests.get(url).content\n",
    "soup=BeautifulSoup(html,\"lxml\")\n",
    "job=soup.find(\"li\"\"clearfix job-bx wht-shd-bx\")\n",
    "jobname=job.find(\"li\",\"clearfix\")\n",
    "sellery=job.find(\"li\",\"material-icons rupee\")\n",
    "location=job.find(\"li\",\"material-icons\")\n",
    "experience=job.find(\"li\",\"material-icons\")\n",
    "print(sellery)\n"
   ]
  }
 ],
 "metadata": {
  "kernelspec": {
   "display_name": "Python 3 (ipykernel)",
   "language": "python",
   "name": "python3"
  },
  "language_info": {
   "codemirror_mode": {
    "name": "ipython",
    "version": 3
   },
   "file_extension": ".py",
   "mimetype": "text/x-python",
   "name": "python",
   "nbconvert_exporter": "python",
   "pygments_lexer": "ipython3",
   "version": "3.9.12"
  }
 },
 "nbformat": 4,
 "nbformat_minor": 5
}
